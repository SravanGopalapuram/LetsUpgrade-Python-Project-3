{
 "cells": [
  {
   "cell_type": "code",
   "execution_count": 14,
   "metadata": {},
   "outputs": [
    {
     "name": "stdout",
     "output_type": "stream",
     "text": [
      "Entry Box https://www.youtube.com/watch?v=p9wCB95TbW0\n"
     ]
    }
   ],
   "source": [
    "import pytube\n",
    "from pytube import YouTube\n",
    "from tkinter import*\n",
    "root = Tk()\n",
    "\n",
    "root.geometry('700x300')\n",
    "root.title('YouTube Video Downloader')\n",
    "\n",
    "def youtube():\n",
    "    q = var.get()\n",
    "    ytvideo=YouTube(q).streams.filter(progressive=True, file_extension='mp4').order_by('resolution').desc().first()\n",
    "    ytvideo.download(r\"E:\\downloads\")\n",
    "    print(\"Entry Box\",q)\n",
    "    \n",
    "l1 = Label(root, text = \"PROVIDE YOUR LINK HERE\", fg = \"red\", font = (\"Bold\", 10))\n",
    "l1.place(x = 250, y = 40)\n",
    "    \n",
    "var = StringVar()\n",
    "b1 = Entry(root, textvariable = var, width = 60)\n",
    "b1.place(x = 150, y = 60)\n",
    "\n",
    "c1 = Button(root, text = \"Download\", command = youtube, bg = \"green\", width = 20, fg = \"white\")\n",
    "c1.place(x = 240, y = 90) \n",
    "\n",
    "root.mainloop()"
   ]
  },
  {
   "cell_type": "code",
   "execution_count": null,
   "metadata": {},
   "outputs": [],
   "source": []
  }
 ],
 "metadata": {
  "kernelspec": {
   "display_name": "Python 3",
   "language": "python",
   "name": "python3"
  },
  "language_info": {
   "codemirror_mode": {
    "name": "ipython",
    "version": 3
   },
   "file_extension": ".py",
   "mimetype": "text/x-python",
   "name": "python",
   "nbconvert_exporter": "python",
   "pygments_lexer": "ipython3",
   "version": "3.8.5"
  }
 },
 "nbformat": 4,
 "nbformat_minor": 4
}
